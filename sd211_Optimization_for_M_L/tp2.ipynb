{
 "cells": [
  {
   "cell_type": "markdown",
   "metadata": {},
   "source": [
    "# <p style=\"text-align: center;\">  <span style=\"color:#F00\"> TP2 Régréssion logistique SD-211 </span>\n",
    "</p>"
   ]
  },
  {
   "cell_type": "markdown",
   "metadata": {},
   "source": [
    "# <span style=\"color:blue\"> 1- Régularisation de Tikhonov"
   ]
  },
  {
   "cell_type": "markdown",
   "metadata": {},
   "source": [
    "## Question 1.1"
   ]
  },
  {
   "cell_type": "markdown",
   "metadata": {},
   "source": [
    "<span style=\"color:#F00\"> Remarque:  </span> Pour faciliter les calculs de notre fonction, du gradient et de la hésienne  on va inclure dans le vecteur $\\omega $ la variable $\\omega_{0}$\n",
    "On pose alors le vecteur $ V  = \\left(\\begin{array}{c}\n",
    "\\omega\\\\\n",
    "\\omega_{0}\n",
    "\\end{array}\\right) $"
   ]
  },
  {
   "cell_type": "markdown",
   "metadata": {},
   "source": [
    "Pour $\\left(\\omega_{0},\\omega\\right)\\in\\mathbb{R}\\times\\mathbb{R}^{p}$\n",
    " , on a :\n",
    "\n",
    "\\begin{array}{lll}\n",
    "f(\\omega_{0},\\omega) & = & \\dfrac{1}{n}{\\displaystyle \\sum_{i=1}^{n}}\\ln\\left(1+\\exp\\left(-y_{i}\\left(x_{i}^{T}\\omega+\\omega_{0}\\right)\\right)\\right)+\\dfrac{\\rho}{2}\\left\\Vert \\omega\\right\\Vert _{2}^{2}+\\dfrac{\\rho}{2}\\left\\Vert \\omega_0\\right\\Vert_{2}^{2}\\\\\\end{array}\n",
    "\n",
    "soit V=($\\omega,\\omega_{0}$) on :$f(\\omega_{0},\\omega)=f(V)$\n",
    "\n",
    "$f(V)= {\\displaystyle \\sum_{i=1}^{n}}\\ln(1+\\exp(-y_iX_i^TV))+\\dfrac{\\rho}{2}||V||_2^2$\n",
    "\n",
    " \n",
    "\n",
    "Donc et par suite:\n",
    "\n",
    "**GRADIENT :**\n",
    "\n",
    "\\begin{array}{lll}\n",
    "\\nabla f(V)\n",
    " & = & \\dfrac{1}{n}{\\displaystyle \\sum_{i=1}^{n}}\\dfrac{-y_{i}\\nabla(X_{i}^{T}V) \\exp(-y_{i}X_{i}^{T}V) }{1+\\exp(-y_{i}X_{i}^{T}V)}+\\rho V\n",
    "\\end{array}\n",
    "\\begin{array}{lll}\n",
    " & = & \\dfrac{1}{n}{\\displaystyle \\sum_{i=1}^{n}}\\dfrac{-y_{i}X_{i} \\exp(-y_{i}X_{i}^{T}V) }{1+\\exp(-y_{i}X_{i}^{T}V)}+\\rho V\n",
    "\\end{array}\n",
    "\\begin{array}{lll}\n",
    " & = & \\dfrac{1}{n}{\\displaystyle \\sum_{i=1}^{n}}\\dfrac{-y_{i}X_{i} }{1+\\exp(y_{i}X_{i}^{T}V)}+\\rho V\n",
    "\\end{array}\n",
    "où:\n",
    "$X_i=\\left(\\begin{array}{c}\n",
    "1\\\\x_{i}\n",
    "\\end{array}\\right)$\n",
    "\n",
    "**HESSIENNE :** <br\\>\n",
    "\n",
    "par la même méthode de calcul on obtient:  \n",
    "\\begin{array}{lll}\n",
    "\\nabla^2f(V)=\\frac{1}{n}{\\displaystyle \\sum_{i=1}^{n}}\\frac{X_{i}X_{i}^T\\exp(y_{i}X_{i}^{T}V) }{(1+\\exp(y_{i}X_{i}^{T}V))^2}+\\rho I_{p+1}\n",
    "\\end{array}\n",
    "\n",
    "**CONVEXITÉ :**<br\\>\n",
    "\n",
    "On étudie la matrice hessienne de f, tout calcul fait on trouve que la matrice hessienne est positive ( $\\nabla^2f(V) \\ge 0$ ).<br\\> \n",
    "$\\forall Z \\in \\mathbb{R}^{p+1}$ $$ Z^t \\nabla^2f(V) Z = \\frac{1}{n} \\sum_{i=0}^{n} Z^t \\frac{X_iX_i^t exp(y_iX_i^tV)}{(1+exp(y_iX_i^tV))^2} Z + \\rho Z^t Z$$<br\\>\n",
    "or :\n",
    "$$Z^TZ = ||Z||_{2}^{2} >0 $$\n",
    "et\n",
    "$$Z^TX_{i}X_{i}^TZ=||X_{i}^TZ||_{2}^{2}\\ge0$$\n"
   ]
  },
  {
   "cell_type": "markdown",
   "metadata": {},
   "source": [
    "## Question 1.2"
   ]
  },
  {
   "cell_type": "code",
   "execution_count": 1,
   "metadata": {
    "collapsed": true
   },
   "outputs": [],
   "source": [
    "import numpy as np\n",
    "from numpy import exp, log\n",
    "from scipy.special import expit\n",
    "from scipy.optimize import check_grad\n",
    "import matplotlib.pyplot as plt\n",
    "\n",
    "\n",
    "def load_diabetic_retinopathy(filename, minidata=False):\n",
    "    \"\"\"\n",
    "    Cette fonction lit le fichier filename, par exemple\n",
    "    filename = 'diabeticRetinopathy.csv'\n",
    "    Elle retourne \n",
    "    X : une matrice de caracteristiques\n",
    "    y : un vecteur des classes tel que si y[i] = 1, la tumeur est maligne\n",
    "        et si y[i] = -1, la tumeur est benigne\n",
    "\n",
    "    Pour plus d'infos sur la base de donnees,\n",
    "    http://archive.ics.uci.edu/ml/datasets/Diabetic+Retinopathy+Debrecen+Data+Set\n",
    "    \"\"\"\n",
    "\n",
    "    data = np.loadtxt(filename, delimiter=',')\n",
    "\n",
    "    y = data[:, -1] * 2 - 1\n",
    "    X = data[:, :-1]\n",
    "\n",
    "    # Standardisation de la matrice\n",
    "    X = X - np.mean(X, axis=0)\n",
    "    X = X / np.std(X, axis=0)\n",
    "\n",
    "    return X, y"
   ]
  },
  {
   "cell_type": "code",
   "execution_count": 2,
   "metadata": {
    "collapsed": true
   },
   "outputs": [],
   "source": [
    "X, y = load_diabetic_retinopathy('diabeticRetinopathy.csv')\n",
    "n, p = X.shape"
   ]
  },
  {
   "cell_type": "code",
   "execution_count": 3,
   "metadata": {
    "collapsed": true
   },
   "outputs": [],
   "source": [
    "def objective(X, y, w, rho):\n",
    "    \"\"\"\n",
    "    Calculer les valeurs, le gradient ainsi que la matrice hessienne de la fonction f\n",
    "    Entrees : \n",
    "    X : Matrices des variables explicatives\n",
    "    y : Les observations\n",
    "    w : \n",
    "    rho : \n",
    "    Sorties \n",
    "    val : valeurs de la fonctions f\n",
    "    grad : le gradient de f\n",
    "    hes : la matrice hessienne de f\n",
    "    \"\"\"\n",
    "    n, p = X.shape\n",
    "    val = 0\n",
    "    grad = np.zeros(p)\n",
    "    hes = np.zeros((p, p))\n",
    "    for i in range(n):\n",
    "\n",
    "        x = X[i, :]\n",
    "        u = y[i] * ((np.transpose(x)).dot(w))\n",
    "        val = val - log(expit(u))\n",
    "        grad = grad - y[i] * expit(-u) * x\n",
    "        hes = hes + (expit(-u) - expit(-u)**2) * np.outer(x, np.transpose(x))\n",
    "\n",
    "    val = val / n + rho / 2 * np.linalg.norm(w)\n",
    "    grad = grad / n + rho * w\n",
    "    hes = hes / n + rho * np.identity(p)\n",
    "    return val, grad, hes"
   ]
  },
  {
   "cell_type": "code",
   "execution_count": 4,
   "metadata": {},
   "outputs": [
    {
     "data": {
      "text/plain": [
       "array([10, 10, 10, 10, 10, 10, 10, 10, 10, 10, 10, 10, 10, 10, 10, 10, 10,\n",
       "       10, 10])"
      ]
     },
     "execution_count": 4,
     "metadata": {},
     "output_type": "execute_result"
    }
   ],
   "source": [
    "w = np.full(p, 10)\n",
    "rho = 1 / n\n",
    "w"
   ]
  },
  {
   "cell_type": "code",
   "execution_count": 5,
   "metadata": {
    "collapsed": true
   },
   "outputs": [],
   "source": [
    "val, grad, hes = objective(X, y, w, rho)"
   ]
  },
  {
   "cell_type": "code",
   "execution_count": 6,
   "metadata": {},
   "outputs": [
    {
     "data": {
      "text/plain": [
       "19.763714801988357"
      ]
     },
     "execution_count": 6,
     "metadata": {},
     "output_type": "execute_result"
    }
   ],
   "source": [
    "val"
   ]
  },
  {
   "cell_type": "code",
   "execution_count": 7,
   "metadata": {},
   "outputs": [
    {
     "data": {
      "text/plain": [
       "array([ 0.00379991,  0.13474781,  0.20695917,  0.22173135,  0.23484025,\n",
       "        0.24998702,  0.25653167,  0.25318891,  0.04330371,  0.13840885,\n",
       "        0.1449312 ,  0.12213453,  0.04486623,  0.03084373,  0.02075784,\n",
       "        0.02047122,  0.02116412,  0.03335038, -0.04388091])"
      ]
     },
     "execution_count": 7,
     "metadata": {},
     "output_type": "execute_result"
    }
   ],
   "source": [
    "grad"
   ]
  },
  {
   "cell_type": "code",
   "execution_count": 8,
   "metadata": {},
   "outputs": [
    {
     "data": {
      "text/plain": [
       "0.0016642660273120987"
      ]
     },
     "execution_count": 8,
     "metadata": {},
     "output_type": "execute_result"
    }
   ],
   "source": [
    "w = np.random.random(p)\n",
    "\n",
    "\n",
    "def fun(w): return objective(X, y, w, rho)[0]\n",
    "\n",
    "\n",
    "def grad(w): return objective(X, y, w, rho)[1]\n",
    "\n",
    "\n",
    "def hess(w): return objective(X, y, w, rho)[2]\n",
    "\n",
    "\n",
    "check_grad(fun, grad, w)"
   ]
  },
  {
   "cell_type": "markdown",
   "metadata": {},
   "source": [
    "## Question 1.3"
   ]
  },
  {
   "cell_type": "code",
   "execution_count": 9,
   "metadata": {
    "collapsed": true
   },
   "outputs": [],
   "source": [
    "def newton(X, y, w, rho, eps, maxiter):\n",
    "    \"\"\"\n",
    "    Impélmenter la méthode de Newton\n",
    "    Entrees \n",
    "    X : Matrices des variables explicatives\n",
    "    y : Les observations\n",
    "    w : \n",
    "    rho : \n",
    "    eps : Paramétre de précision\n",
    "    maxiter : # D'itérations maximales\n",
    "    Sorties \n",
    "    mini : La valeur du minimiseur \n",
    "    vect : Norme du gradient\n",
    "    \"\"\"\n",
    "    mini = w\n",
    "    val, grad, hes = objective(X, y, w, rho)\n",
    "    vect = np.array([])\n",
    "    i = 0\n",
    "    while(np.linalg.norm(grad) > eps and i < 100):\n",
    "        try:\n",
    "            vect = np.append(vect, (np.linalg.norm(grad)))\n",
    "            mini = mini - np.dot(np.linalg.inv(hes), grad)\n",
    "            val, grad, hes = objective(X, y, mini, rho)\n",
    "        except:\n",
    "            break\n",
    "        i += 1\n",
    "    return mini, vect"
   ]
  },
  {
   "cell_type": "code",
   "execution_count": 10,
   "metadata": {
    "collapsed": true
   },
   "outputs": [],
   "source": [
    "w = np.zeros(p)\n",
    "w1, vect = newton(X, y, w, rho, 1e-10, 100)"
   ]
  },
  {
   "cell_type": "code",
   "execution_count": 11,
   "metadata": {},
   "outputs": [
    {
     "data": {
      "text/plain": [
       "array([  3.27335632e-01,   8.12663637e-02,   1.92302279e-02,\n",
       "         4.80739522e-03,   2.24665520e-03,   3.22935275e-04,\n",
       "         2.57865623e-06,   1.65847447e-10])"
      ]
     },
     "execution_count": 11,
     "metadata": {},
     "output_type": "execute_result"
    }
   ],
   "source": [
    "vect"
   ]
  },
  {
   "cell_type": "code",
   "execution_count": 12,
   "metadata": {},
   "outputs": [
    {
     "data": {
      "image/png": "[encoded data removed]",
      "text/plain": [
       "<matplotlib.figure.Figure at 0x7f3042923d30>"
      ]
     },
     "metadata": {},
     "output_type": "display_data"
    }
   ],
   "source": [
    "# Plot the dataset\n",
    "plt.figure(1, figsize=(15, 5))\n",
    "plt.title('Newton Method')\n",
    "plt.loglog(vect)\n",
    "plt.xlabel(\"Iterations\")\n",
    "plt.ylabel(\"Value\")\n",
    "plt.show()"
   ]
  },
  {
   "cell_type": "markdown",
   "metadata": {},
   "source": [
    "## Question 1.4"
   ]
  },
  {
   "cell_type": "code",
   "execution_count": 13,
   "metadata": {},
   "outputs": [
    {
     "name": "stderr",
     "output_type": "stream",
     "text": [
      "/usr/local/lib/python3.5/dist-packages/ipykernel_launcher.py:22: RuntimeWarning: divide by zero encountered in log\n"
     ]
    }
   ],
   "source": [
    "w = np.ones(p) * 0.3\n",
    "w2, vect2 = newton(X, y, w, rho, 10**(-10), 100)"
   ]
  },
  {
   "cell_type": "code",
   "execution_count": 14,
   "metadata": {},
   "outputs": [
    {
     "data": {
      "image/png": "[encoded data removed]",
      "text/plain": [
       "<matplotlib.figure.Figure at 0x7f304260b908>"
      ]
     },
     "metadata": {},
     "output_type": "display_data"
    }
   ],
   "source": [
    "# Plot the dataset\n",
    "plt.title('Newton Method')\n",
    "plt.loglog(vect2)\n",
    "plt.xlabel(\"Iterations\")\n",
    "plt.ylabel(\"Value\")\n",
    "plt.show()"
   ]
  },
  {
   "cell_type": "markdown",
   "metadata": {},
   "source": [
    "## Question 1.5"
   ]
  },
  {
   "cell_type": "code",
   "execution_count": 15,
   "metadata": {
    "collapsed": true
   },
   "outputs": [],
   "source": [
    "def newton_linear_search(f, grad, hess, init, epsilon):\n",
    "    \"\"\"\n",
    "    Implémente la méthode de Newton avec l'algorithme de la recherche linéaire d'Armijo\n",
    "    Entrees \n",
    "    f : la fonction sur laquelle on va implémenter cette Méthode\n",
    "    grad : le gradient de f\n",
    "    hess : la matrice hessienne de f\n",
    "    init : la valeur de départ\n",
    "    epsilon : paramétre de précision\n",
    "    Sorties \n",
    "    val : Le minimiseur \n",
    "    w : Valeur du minimiseur\n",
    "    norm_grad : Norme du gradient\n",
    "    \"\"\"\n",
    "    w = init\n",
    "    val = fun(w)\n",
    "    g = grad(w)\n",
    "    h = hess(w)\n",
    "    norm_grad = [np.linalg.norm(g)]\n",
    "    while (np.linalg.norm(g) >= epsilon):\n",
    "        d = np.dot(np.linalg.inv(h), g)  # initialiser la directon de descente\n",
    "        gamma = 1.  # le pas gamma = b * a^l\n",
    "        alpha = .5  # joue le rôle de a\n",
    "        beta = 1e-4  # joue le rôle de beta\n",
    "        # trouver le pas optimal en trouvant le plus petit entier vérifiant l'inégalité\n",
    "        while (f(w - gamma * d) > val - beta * gamma * np.dot(g, np.matrix(d).T)):\n",
    "            gamma = alpha * gamma  # gamma = ba^(l+1)\n",
    "\n",
    "        w = w - gamma * d  # mettre à jour le nouveau w\n",
    "        val = f(w)\n",
    "        g = grad(w)\n",
    "        h = hess(w)\n",
    "        norm_grad = np.concatenate((norm_grad, [np.linalg.norm(g)]))\n",
    "\n",
    "    return val, w, norm_grad"
   ]
  },
  {
   "cell_type": "code",
   "execution_count": 16,
   "metadata": {},
   "outputs": [
    {
     "data": {
      "image/png": "[encoded data removed]",
      "text/plain": [
       "<matplotlib.figure.Figure at 0x7f30404d6550>"
      ]
     },
     "metadata": {},
     "output_type": "display_data"
    }
   ],
   "source": [
    "init = (0.3 * np.ones(p))\n",
    "plt.close(\"all\")\n",
    "plt.ion()\n",
    "plt.figure(1, figsize=(15, 5))\n",
    "plt.title('Newton Method w/ Armijo linear search')\n",
    "plt.loglog(newton_linear_search(fun, grad, hess, init, 1e-10)[2])\n",
    "plt.xlabel(\"Iterations\")\n",
    "plt.ylabel(\"Value\")\n",
    "plt.show()"
   ]
  },
  {
   "cell_type": "markdown",
   "metadata": {},
   "source": [
    "# <span style=\"color:blue\"> 2- Régularisation pour la parcimonie"
   ]
  },
  {
   "cell_type": "markdown",
   "metadata": {},
   "source": [
    "## Question 2.1"
   ]
  },
  {
   "cell_type": "markdown",
   "metadata": {},
   "source": [
    "La fonction $g$ définie par:\n",
    "$$g(V)= {\\displaystyle \\sum_{i=1}^{n}}\\ln(1+\\exp(-y_iX_i^TV))+\\dfrac{\\rho}{2}||V||_1^2$$\n",
    "n'est pas dérivable sur $\\mathbb{R}^{p+1}$ donc elle n'est pas de classe $\\mathscr {C}^2$ sur $\\mathbb{R}^{p+1}$ et par suite on ne peut pas appliquer la méthode de newton."
   ]
  },
  {
   "cell_type": "markdown",
   "metadata": {},
   "source": [
    "## Question 2.2"
   ]
  },
  {
   "cell_type": "markdown",
   "metadata": {},
   "source": [
    "**Définition des fonctions**"
   ]
  },
  {
   "cell_type": "markdown",
   "metadata": {},
   "source": [
    "Nous posons\n",
    "$$f_2:V \\mapsto {\\displaystyle \\sum_{i=1}^{n}}\\ln(1+\\exp(-y_iX_i^TV))$$\n",
    "et $g_2$:\n",
    "$$g_2:V\\mapsto \\rho||V||_1^2$$"
   ]
  },
  {
   "cell_type": "markdown",
   "metadata": {},
   "source": [
    "**Opérateur proximal de $g_2$**"
   ]
  },
  {
   "cell_type": "markdown",
   "metadata": {},
   "source": [
    "**Proximal de $g_2$ :**<br\\>\n",
    "$$\n",
    "\\textrm{prox}_{g_{2}}:V \\mapsto\\left(\\begin{array}{l}\n",
    "\\textrm{prox}_{g_{2,0}}(V)\\\\\n",
    "\\textrm{prox}_{g_{2,1}}(V)\\\\\n",
    "...\\\\\n",
    "\\textrm{prox}_{g_{2,p}}(V)\n",
    "\\end{array}\\right)\n",
    "$$\n",
    "où : $$V=\\left(\\begin{array}{l}\n",
    "\\omega_{0}\\\\\n",
    "...\\\\\n",
    "\\omega_{p}\n",
    "\\end{array}\\right)$$\n",
    "et on a :\n",
    "$\\forall i \\in \\{0,..,p\\}: $\n",
    "$$\n",
    "\\textrm{prox}_{g_{2i}}:V\\mapsto\\begin{cases}\n",
    "\\omega_{i}-\\rho & \\omega_{i}\\geq\\rho\\\\\n",
    "0 & \\left|\\omega_{i}\\right|<\\rho\\\\\n",
    "\\omega_{i}+\\rho & \\omega_{i}\\leq-\\rho\n",
    "\\end{cases}\n",
    "$$\n",
    "\n"
   ]
  },
  {
   "cell_type": "markdown",
   "metadata": {},
   "source": [
    "**Gradient de $f_2$**"
   ]
  },
  {
   "cell_type": "markdown",
   "metadata": {},
   "source": [
    "Pour $V\\in\\mathbb{R}^{p+1}$\n",
    "$$\\nabla f_{2}(V)=\\dfrac{1}{n}{\\displaystyle \\sum_{i=1}^{n}}\\dfrac{-y_{i}X_{i} }{1+\\exp(y_{i}X_{i}^{T}V)}$$"
   ]
  },
  {
   "cell_type": "markdown",
   "metadata": {},
   "source": [
    "**Convexité**"
   ]
  },
  {
   "cell_type": "markdown",
   "metadata": {},
   "source": [
    "D'après la question 1.1, $f_2$ est convexe. De plus, la norme 1 est également convexe.\n",
    "Par suite $F_2$ est convexe car somme de deux fonctions convexes."
   ]
  },
  {
   "cell_type": "markdown",
   "metadata": {},
   "source": [
    "## Question 2.3"
   ]
  },
  {
   "cell_type": "code",
   "execution_count": 17,
   "metadata": {
    "collapsed": true
   },
   "outputs": [],
   "source": [
    "def objective_2(X, y, w, rho):\n",
    "    \"\"\"\n",
    "    Donne la valeur de la fonction f2 définie ci-dessus\n",
    "    Entrees \n",
    "    X : Matrices des variables explicatives\n",
    "    y : Les observations\n",
    "    w : \n",
    "    rho : \n",
    "    Sorties \n",
    "    val : valeurs de la fonctions f\n",
    "    grad : le gradient de f\n",
    "    hes : la matrice hessienne de f\n",
    "    \"\"\"\n",
    "    n, p = X.shape\n",
    "    val = 0\n",
    "    grad = np.zeros(p)\n",
    "    hes = np.zeros((p, p))\n",
    "    for i in range(n):\n",
    "\n",
    "        x = X[i, :]\n",
    "        u = y[i] * ((np.transpose(x)).dot(w))\n",
    "        val = val - log(expit(u))\n",
    "        grad = grad - y[i] * expit(-u) * x\n",
    "        hes = hes + (expit(-u) - expit(-u)**2) * np.outer(x, np.transpose(x))\n",
    "\n",
    "    val = val / n\n",
    "    grad = grad / n\n",
    "    hes = hes / n\n",
    "    return val, grad, hes\n",
    "\n",
    "\n",
    "def grad2(w): return objective_2(X, y, w, rho)[1]\n",
    "\n",
    "\n",
    "def hessienne2(w): return objective_2(X, y, w, rho)[2]\n",
    "\n",
    "\n",
    "def g2(w, rho=0.1): return rho * np.linalg.norm(w, ord=1)"
   ]
  },
  {
   "cell_type": "code",
   "execution_count": 18,
   "metadata": {
    "collapsed": true
   },
   "outputs": [],
   "source": [
    "def f2(w, y, X, rho):\n",
    "    val = 0\n",
    "    n, p = X.shape\n",
    "    grad = np.zeros(p)\n",
    "    hes = np.zeros((p, p))\n",
    "\n",
    "    for i in range(n):\n",
    "        x = X[i, :]\n",
    "        a = y[i] * ((np.transpose(x)).dot(w))\n",
    "        val = val - log(expit(a))\n",
    "        grad = grad - y[i] * expit(-a) * x\n",
    "\n",
    "    val = val / n\n",
    "    grad = grad / n\n",
    "    return val, grad\n",
    "\n",
    "\n",
    "def g2(w):\n",
    "    g2 = rho * np.linalg.norm(w, ord=1)\n",
    "    return g2\n",
    "\n",
    "\n",
    "def F2(w):\n",
    "    return f2(w, y, X, rho)[0] + g2(w)"
   ]
  },
  {
   "cell_type": "code",
   "execution_count": 19,
   "metadata": {
    "collapsed": true
   },
   "outputs": [],
   "source": [
    "def prox(w, rho=0.1):\n",
    "    \"\"\"\n",
    "    Calcule le proximal de la valeur absolue\n",
    "    \"\"\"\n",
    "    pr = np.zeros(p)\n",
    "    pr[w > rho] = w[w > rho] - rho\n",
    "    pr[w < -rho] = w[w < -rho] + rho\n",
    "    pr[0] = 0.0\n",
    "    return pr"
   ]
  },
  {
   "cell_type": "code",
   "execution_count": 20,
   "metadata": {
    "collapsed": true
   },
   "outputs": [],
   "source": [
    "def prox_method(f, f2, init, prox, nombreIteration, eps=1e-10):\n",
    "    \"\"\"\n",
    "    Implémentation de l'algorithme du gradient proximal\n",
    "    Entrees \n",
    "    f : la fonction objective\n",
    "    f2 : la fonction f2 \n",
    "    init : point de départ\n",
    "    prox : le proximal de la valeur absolue\n",
    "    nombreIteration : nombre d'itérations maximale\n",
    "    eps : Paramétre de précision\n",
    "    Sorties\n",
    "    val : Le minimiseur\n",
    "    w : La valeur du minimiseur\n",
    "    norm_grad : La norme du gradient\n",
    "    \"\"\"\n",
    "    w = init\n",
    "    val = f(w)\n",
    "    g = f2(w, y, X, rho)[1]\n",
    "    nombre = 0\n",
    "    norm_grad = [np.linalg.norm(g)]\n",
    "    while (np.linalg.norm(g) >= eps and nombre < nombreIteration):\n",
    "        d = g\n",
    "        gamma = 1.\n",
    "        alpha = .5\n",
    "        beta = 1e-4\n",
    "        while (f(w - gamma * d) > val - beta * gamma * np.dot(g, np.matrix(d).T)):\n",
    "            gamma = alpha * gamma\n",
    "        w = prox(w - gamma * np.ravel(d))\n",
    "        val = f(w)\n",
    "        g = f2(w, y, X, rho)[1]\n",
    "        # h=hess(w)\n",
    "        norm_grad = np.concatenate((norm_grad, [np.linalg.norm(g)]))\n",
    "        nombre += 1\n",
    "        # print(np.linalg.norm(g))\n",
    "\n",
    "    return val, w, norm_grad"
   ]
  },
  {
   "cell_type": "code",
   "execution_count": 21,
   "metadata": {},
   "outputs": [
    {
     "data": {
      "image/png": "[encoded data removed]",
      "text/plain": [
       "<matplotlib.figure.Figure at 0x7f304056f048>"
      ]
     },
     "metadata": {},
     "output_type": "display_data"
    }
   ],
   "source": [
    "plt.close(\"all\")\n",
    "plt.ion()\n",
    "plt.figure(1, figsize=(15, 5))\n",
    "plt.title('Proximal gradient algorithm w/ linear search')\n",
    "plt.plot(prox_method(F2, f2,\n",
    "                     0.5 * np.ones(p), prox, 30, 1e-10)[2])\n",
    "plt.xlabel(\"Iterations\")\n",
    "plt.ylabel(\"Value\")\n",
    "plt.show()"
   ]
  },
  {
   "cell_type": "markdown",
   "metadata": {},
   "source": [
    "# <span style=\"color:blue\"> 3- Comparaison"
   ]
  },
  {
   "cell_type": "markdown",
   "metadata": {},
   "source": [
    "## Question 3.1 :"
   ]
  },
  {
   "cell_type": "markdown",
   "metadata": {},
   "source": [
    "Le problème 1 est le problème de (Ridge) où les coefficients ne sont pas mis à zero.<br\\>\n",
    "Le deuxième problème est dit de LASSO qui réduit les coefficients à zéro, il fait la sélection de coefficients.<br\\>\n",
    "Mais si un groupe de prédicteurs sont fortement corrélés entre eux, LASSO a tendance à choisir l'un d'eux et à réduire les autres à zéro. d'après les résultats obtenue la régularisation de Lasso est plus rapide à obtenir."
   ]
  },
  {
   "cell_type": "markdown",
   "metadata": {},
   "source": [
    "## Question 3.2 :"
   ]
  },
  {
   "cell_type": "code",
   "execution_count": 22,
   "metadata": {
    "collapsed": true
   },
   "outputs": [],
   "source": [
    "from sklearn.metrics import classification_report"
   ]
  },
  {
   "cell_type": "code",
   "execution_count": 23,
   "metadata": {},
   "outputs": [
    {
     "name": "stdout",
     "output_type": "stream",
     "text": [
      "Score: \n",
      "----------------------------------------------------\n",
      "Newton Method : 0.721981\n",
      "Proximal Method : 0.592528\n",
      "----------------------------------------------------\n",
      "Classification report: \n",
      "----------------------------------------------------\n",
      "Newton Method :\n",
      "             precision    recall  f1-score   support\n",
      "\n",
      "       -1.0       0.65      0.89      0.75       540\n",
      "        1.0       0.86      0.57      0.69       611\n",
      "\n",
      "avg / total       0.76      0.72      0.72      1151\n",
      "\n",
      "----------------------------------------------------\n",
      "Proximal Method :\n",
      "             precision    recall  f1-score   support\n",
      "\n",
      "       -1.0       0.56      0.63      0.59       540\n",
      "        1.0       0.63      0.56      0.59       611\n",
      "\n",
      "avg / total       0.60      0.59      0.59      1151\n",
      "\n"
     ]
    }
   ],
   "source": [
    "y_pred_l2 = np.sign(\n",
    "    X.dot(newton_linear_search(fun, grad, hess, init, 1e-10)[1]))\n",
    "y_pred_l1 = np.sign(\n",
    "    X.dot(prox_method(F2, f2, 0.5 * np.ones(p), prox, 30, 1e-10)[1]))\n",
    "print(\"Score: \")\n",
    "print(\"----------------------------------------------------\")\n",
    "print(\"Newton Method : %f\" % (np.mean(y == y_pred_l2)))\n",
    "print(\"Proximal Method : %f\" % (np.mean(y == y_pred_l1)))\n",
    "print(\"----------------------------------------------------\")\n",
    "print(\"Classification report: \")\n",
    "print(\"----------------------------------------------------\")\n",
    "print(\"Newton Method :\")\n",
    "print(classification_report(y, y_pred_l2))\n",
    "print(\"----------------------------------------------------\")\n",
    "print(\"Proximal Method :\")\n",
    "print(classification_report(y, y_pred_l1))"
   ]
  },
  {
   "cell_type": "markdown",
   "metadata": {},
   "source": [
    "**Conclusion:** Bien que l'algorithme proximal soit plus rapide que la méthode de newton, il est moins précis que la méthode de Newton."
   ]
  }
 ],
 "metadata": {
  "kernelspec": {
   "display_name": "Python 3",
   "language": "python",
   "name": "python3"
  },
  "language_info": {
   "codemirror_mode": {
    "name": "ipython",
    "version": 3
   },
   "file_extension": ".py",
   "mimetype": "text/x-python",
   "name": "python",
   "nbconvert_exporter": "python",
   "pygments_lexer": "ipython3",
   "version": "3.6.2"
  }
 },
 "nbformat": 4,
 "nbformat_minor": 2
}
